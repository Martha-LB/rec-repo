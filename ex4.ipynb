{
 "cells": [
  {
   "cell_type": "code",
   "execution_count": null,
   "metadata": {},
   "outputs": [],
   "source": [
    "# Exercise 4\n",
    "\n",
    "import numpy as np\n",
    "from scipy.sparse import csr_matrix\n",
    "from collections import defaultdict\n",
    "import shelve\n",
    "from data_util import load_movielens_tf  # Import from provided GitHub repo\n",
    "\n",
    "def create_data_structures():\n",
    "    rated_by = defaultdict(list)  # Dictionary for rated_by[]\n",
    "    user_ratings_dict = defaultdict(list)  # Temporary dict to hold ratings for user_col[]\n",
    "\n",
    "    # Load MovieLens data incrementally using provided function\n",
    "    for user_id, movie_id, rating in load_movielens_tf():\n",
    "        rated_by[movie_id].append(user_id)\n",
    "        user_ratings_dict[user_id].append((movie_id, rating))\n",
    "    \n",
    "    # Convert user ratings to sparse vectors\n",
    "    user_col = {}\n",
    "    num_movies = max(max(movie_ids) for movie_ids, _ in user_ratings_dict.values()) + 1\n",
    "    \n",
    "    for user_id, ratings in user_ratings_dict.items():\n",
    "        movie_ids, ratings = zip(*ratings)\n",
    "        sparse_vector = csr_matrix((ratings, (np.zeros(len(movie_ids)), movie_ids)), shape=(1, num_movies))\n",
    "        user_col[user_id] = sparse_vector\n",
    "\n",
    "    # Optionally save data structures to disk with shelve to manage memory\n",
    "    with shelve.open(\"movielens_data.shelve\") as db:\n",
    "        db['rated_by'] = rated_by\n",
    "        db['user_col'] = user_col\n",
    "    \n",
    "    return rated_by, user_col\n",
    "\n",
    "rated_by, user_col = create_data_structures()\n",
    "print(\"Data structures created and stored.\")"
   ]
  }
 ],
 "metadata": {
  "kernelspec": {
   "display_name": "base",
   "language": "python",
   "name": "python3"
  },
  "language_info": {
   "codemirror_mode": {
    "name": "ipython",
    "version": 3
   },
   "file_extension": ".py",
   "mimetype": "text/x-python",
   "name": "python",
   "nbconvert_exporter": "python",
   "pygments_lexer": "ipython3",
   "version": "3.9.12"
  }
 },
 "nbformat": 4,
 "nbformat_minor": 2
}
