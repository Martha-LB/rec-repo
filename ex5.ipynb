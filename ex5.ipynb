{
 "cells": [
  {
   "cell_type": "code",
   "execution_count": 2,
   "metadata": {},
   "outputs": [
    {
     "name": "stdout",
     "output_type": "stream",
     "text": [
      "Requirement already satisfied: memory-profiler in /opt/anaconda3/lib/python3.9/site-packages (0.61.0)\n",
      "Requirement already satisfied: psutil in /opt/anaconda3/lib/python3.9/site-packages (from memory-profiler) (5.8.0)\n",
      "Note: you may need to restart the kernel to use updated packages.\n"
     ]
    }
   ],
   "source": [
    "pip install memory-profiler"
   ]
  },
  {
   "cell_type": "code",
   "execution_count": 1,
   "metadata": {},
   "outputs": [
    {
     "name": "stderr",
     "output_type": "stream",
     "text": [
      "/opt/anaconda3/lib/python3.9/site-packages/scipy/__init__.py:146: UserWarning: A NumPy version >=1.16.5 and <1.23.0 is required for this version of SciPy (detected version 1.26.4\n",
      "  warnings.warn(f\"A NumPy version >={np_minversion} and <{np_maxversion}\"\n"
     ]
    },
    {
     "ename": "ModuleNotFoundError",
     "evalue": "No module named 'data_util'",
     "output_type": "error",
     "traceback": [
      "\u001b[0;31m---------------------------------------------------------------------------\u001b[0m",
      "\u001b[0;31mModuleNotFoundError\u001b[0m                       Traceback (most recent call last)",
      "Input \u001b[0;32mIn [1]\u001b[0m, in \u001b[0;36m<cell line: 4>\u001b[0;34m()\u001b[0m\n\u001b[1;32m      2\u001b[0m \u001b[38;5;28;01mfrom\u001b[39;00m \u001b[38;5;21;01mcollections\u001b[39;00m \u001b[38;5;28;01mimport\u001b[39;00m defaultdict\n\u001b[1;32m      3\u001b[0m \u001b[38;5;28;01mimport\u001b[39;00m \u001b[38;5;21;01mshelve\u001b[39;00m\n\u001b[0;32m----> 4\u001b[0m \u001b[38;5;28;01mfrom\u001b[39;00m \u001b[38;5;21;01mdata_util\u001b[39;00m \u001b[38;5;28;01mimport\u001b[39;00m load_movielens_tf  \u001b[38;5;66;03m# Ensure this is accessible\u001b[39;00m\n\u001b[1;32m      6\u001b[0m \u001b[38;5;28;01mdef\u001b[39;00m \u001b[38;5;21mcreate_data_structures\u001b[39m():\n\u001b[1;32m      7\u001b[0m     rated_by \u001b[38;5;241m=\u001b[39m defaultdict(\u001b[38;5;28mlist\u001b[39m)\n",
      "\u001b[0;31mModuleNotFoundError\u001b[0m: No module named 'data_util'"
     ]
    }
   ],
   "source": [
    "from scipy.sparse import csr_matrix\n",
    "from collections import defaultdict\n",
    "import shelve\n",
    "from data_util import load_movielens_tf  # Ensure this is accessible\n",
    "\n",
    "def create_data_structures():\n",
    "    rated_by = defaultdict(list)\n",
    "    user_ratings_dict = defaultdict(list)\n",
    "\n",
    "    # Load data incrementally\n",
    "    for user_id, movie_id, rating in load_movielens_tf():\n",
    "        rated_by[movie_id].append(user_id)\n",
    "        user_ratings_dict[user_id].append((movie_id, rating))\n",
    "    \n",
    "    # Convert user ratings to sparse vectors\n",
    "    user_col = {}\n",
    "    num_movies = max(max(movie_ids) for movie_ids, _ in user_ratings_dict.values()) + 1\n",
    "    \n",
    "    for user_id, ratings in user_ratings_dict.items():\n",
    "        movie_ids, ratings = zip(*ratings)\n",
    "        sparse_vector = csr_matrix((ratings, (np.zeros(len(movie_ids)), movie_ids)), shape=(1, num_movies))\n",
    "        user_col[user_id] = sparse_vector\n",
    "\n",
    "    # Optionally save data to disk\n",
    "    with shelve.open(\"movielens_data.shelve\") as db:\n",
    "        db['rated_by'] = rated_by\n",
    "        db['user_col'] = user_col\n",
    "    \n",
    "    return rated_by, user_col\n",
    "\n",
    "# Run this function to generate `user_col` and `rated_by`\n",
    "rated_by, user_col = create_data_structures()"
   ]
  },
  {
   "cell_type": "code",
   "execution_count": 4,
   "metadata": {},
   "outputs": [
    {
     "ename": "ModuleNotFoundError",
     "evalue": "No module named 'data_util'",
     "output_type": "error",
     "traceback": [
      "\u001b[0;31m---------------------------------------------------------------------------\u001b[0m",
      "\u001b[0;31mModuleNotFoundError\u001b[0m                       Traceback (most recent call last)",
      "Input \u001b[0;32mIn [4]\u001b[0m, in \u001b[0;36m<cell line: 4>\u001b[0;34m()\u001b[0m\n\u001b[1;32m      2\u001b[0m \u001b[38;5;28;01mfrom\u001b[39;00m \u001b[38;5;21;01mcollections\u001b[39;00m \u001b[38;5;28;01mimport\u001b[39;00m defaultdict\n\u001b[1;32m      3\u001b[0m \u001b[38;5;28;01mimport\u001b[39;00m \u001b[38;5;21;01mshelve\u001b[39;00m\n\u001b[0;32m----> 4\u001b[0m \u001b[38;5;28;01mfrom\u001b[39;00m \u001b[38;5;21;01mdata_util\u001b[39;00m \u001b[38;5;28;01mimport\u001b[39;00m load_movielens_tf  \u001b[38;5;66;03m# Ensure this is accessible\u001b[39;00m\n\u001b[1;32m      6\u001b[0m \u001b[38;5;28;01mdef\u001b[39;00m \u001b[38;5;21mcreate_data_structures\u001b[39m():\n\u001b[1;32m      7\u001b[0m     rated_by \u001b[38;5;241m=\u001b[39m defaultdict(\u001b[38;5;28mlist\u001b[39m)\n",
      "\u001b[0;31mModuleNotFoundError\u001b[0m: No module named 'data_util'"
     ]
    }
   ],
   "source": [
    "from scipy.sparse import csr_matrix\n",
    "from collections import defaultdict\n",
    "import shelve\n",
    "from data_util import load_movielens_tf  # Ensure this is accessible\n",
    "\n",
    "def create_data_structures():\n",
    "    rated_by = defaultdict(list)\n",
    "    user_ratings_dict = defaultdict(list)\n",
    "\n",
    "    # Load data incrementally\n",
    "    for user_id, movie_id, rating in load_movielens_tf():\n",
    "        rated_by[movie_id].append(user_id)\n",
    "        user_ratings_dict[user_id].append((movie_id, rating))\n",
    "    \n",
    "    # Convert user ratings to sparse vectors\n",
    "    user_col = {}\n",
    "    num_movies = max(max(movie_ids) for movie_ids, _ in user_ratings_dict.values()) + 1\n",
    "    \n",
    "    for user_id, ratings in user_ratings_dict.items():\n",
    "        movie_ids, ratings = zip(*ratings)\n",
    "        sparse_vector = csr_matrix((ratings, (np.zeros(len(movie_ids)), movie_ids)), shape=(1, num_movies))\n",
    "        user_col[user_id] = sparse_vector\n",
    "\n",
    "    # Optionally save data to disk\n",
    "    with shelve.open(\"movielens_data.shelve\") as db:\n",
    "        db['rated_by'] = rated_by\n",
    "        db['user_col'] = user_col\n",
    "    \n",
    "    return rated_by, user_col\n",
    "\n",
    "# Run this function to generate `user_col` and `rated_by`\n",
    "rated_by, user_col = create_data_structures()"
   ]
  }
 ],
 "metadata": {
  "kernelspec": {
   "display_name": "base",
   "language": "python",
   "name": "python3"
  },
  "language_info": {
   "codemirror_mode": {
    "name": "ipython",
    "version": 3
   },
   "file_extension": ".py",
   "mimetype": "text/x-python",
   "name": "python",
   "nbconvert_exporter": "python",
   "pygments_lexer": "ipython3",
   "version": "3.9.12"
  }
 },
 "nbformat": 4,
 "nbformat_minor": 2
}
