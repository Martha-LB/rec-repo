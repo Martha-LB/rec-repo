{
 "cells": [
  {
   "cell_type": "code",
   "execution_count": 1,
   "metadata": {},
   "outputs": [
    {
     "name": "stdout",
     "output_type": "stream",
     "text": [
      "Requirement already satisfied: memory-profiler in /opt/anaconda3/lib/python3.9/site-packages (0.61.0)\n",
      "Requirement already satisfied: psutil in /opt/anaconda3/lib/python3.9/site-packages (from memory-profiler) (5.8.0)\n",
      "Note: you may need to restart the kernel to use updated packages.\n"
     ]
    }
   ],
   "source": [
    "pip install memory-profiler"
   ]
  },
  {
   "cell_type": "code",
   "execution_count": 2,
   "metadata": {},
   "outputs": [
    {
     "name": "stderr",
     "output_type": "stream",
     "text": [
      "/opt/anaconda3/lib/python3.9/site-packages/scipy/__init__.py:146: UserWarning: A NumPy version >=1.16.5 and <1.23.0 is required for this version of SciPy (detected version 1.26.4\n",
      "  warnings.warn(f\"A NumPy version >={np_minversion} and <{np_maxversion}\"\n"
     ]
    },
    {
     "ename": "ModuleNotFoundError",
     "evalue": "No module named 'data_util'",
     "output_type": "error",
     "traceback": [
      "\u001b[0;31m---------------------------------------------------------------------------\u001b[0m",
      "\u001b[0;31mModuleNotFoundError\u001b[0m                       Traceback (most recent call last)",
      "Input \u001b[0;32mIn [2]\u001b[0m, in \u001b[0;36m<cell line: 4>\u001b[0;34m()\u001b[0m\n\u001b[1;32m      2\u001b[0m \u001b[38;5;28;01mfrom\u001b[39;00m \u001b[38;5;21;01mcollections\u001b[39;00m \u001b[38;5;28;01mimport\u001b[39;00m defaultdict\n\u001b[1;32m      3\u001b[0m \u001b[38;5;28;01mimport\u001b[39;00m \u001b[38;5;21;01mshelve\u001b[39;00m\n\u001b[0;32m----> 4\u001b[0m \u001b[38;5;28;01mfrom\u001b[39;00m \u001b[38;5;21;01mdata_util\u001b[39;00m \u001b[38;5;28;01mimport\u001b[39;00m load_movielens_tf  \u001b[38;5;66;03m# Ensure this is accessible\u001b[39;00m\n\u001b[1;32m      6\u001b[0m \u001b[38;5;28;01mdef\u001b[39;00m \u001b[38;5;21mcreate_data_structures\u001b[39m():\n\u001b[1;32m      7\u001b[0m     rated_by \u001b[38;5;241m=\u001b[39m defaultdict(\u001b[38;5;28mlist\u001b[39m)\n",
      "\u001b[0;31mModuleNotFoundError\u001b[0m: No module named 'data_util'"
     ]
    }
   ],
   "source": [
    "from scipy.sparse import csr_matrix\n",
    "from collections import defaultdict\n",
    "import shelve\n",
    "from data_util import load_movielens_tf  # Ensure this is accessible\n",
    "\n",
    "def create_data_structures():\n",
    "    rated_by = defaultdict(list)\n",
    "    user_ratings_dict = defaultdict(list)\n",
    "\n",
    "    # Load data incrementally\n",
    "    for user_id, movie_id, rating in load_movielens_tf():\n",
    "        rated_by[movie_id].append(user_id)\n",
    "        user_ratings_dict[user_id].append((movie_id, rating))\n",
    "    \n",
    "    # Convert user ratings to sparse vectors\n",
    "    user_col = {}\n",
    "    num_movies = max(max(movie_ids) for movie_ids, _ in user_ratings_dict.values()) + 1\n",
    "    \n",
    "    for user_id, ratings in user_ratings_dict.items():\n",
    "        movie_ids, ratings = zip(*ratings)\n",
    "        sparse_vector = csr_matrix((ratings, (np.zeros(len(movie_ids)), movie_ids)), shape=(1, num_movies))\n",
    "        user_col[user_id] = sparse_vector\n",
    "\n",
    "    # Optionally save data to disk\n",
    "    with shelve.open(\"movielens_data.shelve\") as db:\n",
    "        db['rated_by'] = rated_by\n",
    "        db['user_col'] = user_col\n",
    "    \n",
    "    return rated_by, user_col\n",
    "\n",
    "# Run this function to generate `user_col` and `rated_by`\n",
    "rated_by, user_col = create_data_structures()"
   ]
  },
  {
   "cell_type": "code",
   "execution_count": 5,
   "metadata": {},
   "outputs": [
    {
     "ename": "NameError",
     "evalue": "name 'user_col' is not defined",
     "output_type": "error",
     "traceback": [
      "\u001b[0;31m---------------------------------------------------------------------------\u001b[0m",
      "\u001b[0;31mNameError\u001b[0m                                 Traceback (most recent call last)",
      "Input \u001b[0;32mIn [5]\u001b[0m, in \u001b[0;36m<cell line: 66>\u001b[0;34m()\u001b[0m\n\u001b[1;32m     63\u001b[0m         \u001b[38;5;28mprint\u001b[39m(\u001b[38;5;124mf\u001b[39m\u001b[38;5;124m\"\u001b[39m\u001b[38;5;124mMemory usage for pair \u001b[39m\u001b[38;5;132;01m{\u001b[39;00midx\u001b[38;5;241m+\u001b[39m\u001b[38;5;241m1\u001b[39m\u001b[38;5;132;01m}\u001b[39;00m\u001b[38;5;124m (user \u001b[39m\u001b[38;5;132;01m{\u001b[39;00muser_id\u001b[38;5;132;01m}\u001b[39;00m\u001b[38;5;124m, item \u001b[39m\u001b[38;5;132;01m{\u001b[39;00mitem_id\u001b[38;5;132;01m}\u001b[39;00m\u001b[38;5;124m): \u001b[39m\u001b[38;5;132;01m{\u001b[39;00m\u001b[38;5;28mmax\u001b[39m(mem_usage)\u001b[38;5;132;01m:\u001b[39;00m\u001b[38;5;124m.2f\u001b[39m\u001b[38;5;132;01m}\u001b[39;00m\u001b[38;5;124m MB\u001b[39m\u001b[38;5;124m\"\u001b[39m)\n\u001b[1;32m     65\u001b[0m \u001b[38;5;66;03m# Run the tests and calculate memory usage\u001b[39;00m\n\u001b[0;32m---> 66\u001b[0m run_tests(\u001b[43muser_col\u001b[49m, rated_by)\n\u001b[1;32m     67\u001b[0m calculate_memory_usage(user_col, rated_by)\n",
      "\u001b[0;31mNameError\u001b[0m: name 'user_col' is not defined"
     ]
    }
   ],
   "source": [
    "import numpy as np\n",
    "\n",
    "from memory_profiler import memory_usage\n",
    "\n",
    "# Assuming user_col and rated_by are loaded from disk or created as in Exercise 4\n",
    "\n",
    "def estimate_rating(user_id, item_id, user_col, rated_by, similarity_func):\n",
    "    \"\"\"\n",
    "    Estimate the rating of a user for a given item using collaborative filtering.\n",
    "    \n",
    "    Parameters:\n",
    "        user_id (int): ID of the user.\n",
    "        item_id (int): ID of the item.\n",
    "        user_col (dict): Sparse user ratings, keyed by user ID.\n",
    "        rated_by (dict): Dictionary mapping each item to the users who rated it.\n",
    "        similarity_func (function): Function to compute centered cosine similarity.\n",
    "    \n",
    "    Returns:\n",
    "        float: Estimated rating for the user on the item.\n",
    "    \"\"\"\n",
    "    if item_id not in rated_by:\n",
    "        return np.nan  # Item has no ratings, so estimation is not possible\n",
    "    \n",
    "    # Find users who rated the item\n",
    "    relevant_users = rated_by[item_id]\n",
    "    \n",
    "    # Compute similarities between target user and relevant users\n",
    "    similarities = []\n",
    "    weighted_ratings = []\n",
    "    \n",
    "    for other_user in relevant_users:\n",
    "        if other_user != user_id:\n",
    "            sim = similarity_func(user_col[user_id], user_col[other_user])\n",
    "            rating = user_col[other_user][0, item_id]\n",
    "            similarities.append(sim)\n",
    "            weighted_ratings.append(sim * rating)\n",
    "\n",
    "    # Calculate estimated rating as weighted average\n",
    "    sum_similarities = np.sum(np.abs(similarities))\n",
    "    estimated_rating = np.sum(weighted_ratings) / sum_similarities if sum_similarities != 0 else 0\n",
    "    \n",
    "    return estimated_rating\n",
    "\n",
    "# Provided list of user-item pairs for testing\n",
    "test_pairs = [\n",
    "    (828, 11), (2400, 4725), (3765, 1270), (4299, 4020), (5526, 2432),\n",
    "    (6063, 4525), (7045, 4100), (8160, 6300), (9682, 1212), (10277, 7355)\n",
    "]\n",
    "\n",
    "# Running the function on provided pairs and reporting results\n",
    "def run_tests(user_col, rated_by):\n",
    "    results = []\n",
    "    for user_id, item_id in test_pairs:\n",
    "        rating = estimate_rating(user_id, item_id, user_col, rated_by, centered_cosine_sim)\n",
    "        results.append((user_id, item_id, rating))\n",
    "        print(f\"Estimated rating for user {user_id} on item {item_id}: {rating:.2f}\")\n",
    "    return results\n",
    "\n",
    "# Calculate memory usage for the first six pairs\n",
    "def calculate_memory_usage(user_col, rated_by):\n",
    "    for idx, (user_id, item_id) in enumerate(test_pairs[:6]):\n",
    "        mem_usage = memory_usage((estimate_rating, (user_id, item_id, user_col, rated_by, centered_cosine_sim)))\n",
    "        print(f\"Memory usage for pair {idx+1} (user {user_id}, item {item_id}): {max(mem_usage):.2f} MB\")\n",
    "\n",
    "# Run the tests and calculate memory usage\n",
    "run_tests(user_col, rated_by)\n",
    "calculate_memory_usage(user_col, rated_by)"
   ]
  }
 ],
 "metadata": {
  "kernelspec": {
   "display_name": "base",
   "language": "python",
   "name": "python3"
  },
  "language_info": {
   "codemirror_mode": {
    "name": "ipython",
    "version": 3
   },
   "file_extension": ".py",
   "mimetype": "text/x-python",
   "name": "python",
   "nbconvert_exporter": "python",
   "pygments_lexer": "ipython3",
   "version": "3.9.12"
  }
 },
 "nbformat": 4,
 "nbformat_minor": 2
}
