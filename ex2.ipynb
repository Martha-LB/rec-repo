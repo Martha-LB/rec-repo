{
 "cells": [
  {
   "cell_type": "code",
   "execution_count": 6,
   "metadata": {},
   "outputs": [],
   "source": [
    "# Exercise 2\n",
    "\n",
    "import numpy as np\n",
    "from scipy.sparse import csr_matrix\n",
    "\n",
    "def centered_cosine_sim(vector_x, vector_y):\n",
    "    # Convert to dense arrays and replace NaNs with zeros\n",
    "    vector_x = vector_x.toarray().flatten()\n",
    "    vector_y = vector_y.toarray().flatten()\n",
    "    # Center the vectors by subtracting the mean of non-zero entries\n",
    "    x_mean = np.mean(vector_x[vector_x != 0])\n",
    "    y_mean = np.mean(vector_y[vector_y != 0])\n",
    "    centered_x = vector_x - x_mean\n",
    "    centered_y = vector_y - y_mean\n",
    "    # Compute the centered cosine similarity\n",
    "    similarity = np.dot(centered_x, centered_y) / (np.linalg.norm(centered_x) * np.linalg.norm(centered_y))\n",
    "    return similarity"
   ]
  },
  {
   "cell_type": "code",
   "execution_count": 7,
   "metadata": {},
   "outputs": [],
   "source": [
    "def fast_centered_cosine_sim(matrix, vector):\n",
    "    # Convert the matrix and vector to dense arrays\n",
    "    matrix = matrix.toarray()\n",
    "    vector = vector.toarray().flatten()\n",
    "    # Center the vector\n",
    "    vector_mean = np.mean(vector[vector != 0])\n",
    "    centered_vector = vector - vector_mean\n",
    "    # Center each row in the matrix\n",
    "    matrix_centered = matrix - np.nan_to_num(matrix.mean(axis=1, keepdims=True))\n",
    "    # Calculate cosine similarities\n",
    "    dot_product = matrix_centered.dot(centered_vector)\n",
    "    norms = np.linalg.norm(matrix_centered, axis=1) * np.linalg.norm(centered_vector)\n",
    "    similarities = dot_product / norms\n",
    "    return similarities"
   ]
  },
  {
   "cell_type": "code",
   "execution_count": 8,
   "metadata": {},
   "outputs": [
    {
     "name": "stdout",
     "output_type": "stream",
     "text": [
      "Similarity (case 1): -1.0000000000000002\n",
      "Similarity (case 2): -0.9479121771961365\n"
     ]
    }
   ],
   "source": [
    "import numpy as np\n",
    "from scipy.sparse import csr_matrix\n",
    "\n",
    "# Test for case b.1\n",
    "def test_centered_cosine_sim_case_1():\n",
    "    k = 100\n",
    "    vector_x = csr_matrix(np.array([i + 1 for i in range(k)]))\n",
    "    vector_y = csr_matrix(np.array([k - i for i in range(k)]))\n",
    "    similarity = centered_cosine_sim(vector_x, vector_y)\n",
    "    print(\"Similarity (case 1):\", similarity)\n",
    "\n",
    "# Test for case b.2\n",
    "def test_centered_cosine_sim_case_2():\n",
    "    k = 100\n",
    "    c_values = [2, 3, 4, 5, 6]\n",
    "    vector_x = np.array([np.nan if (i % 10 == 0 and i // 10 in c_values) else i + 1 for i in range(k)])\n",
    "    vector_x_sparse = csr_matrix(np.nan_to_num(vector_x, nan=0))\n",
    "    vector_y = csr_matrix(np.array([k - i for i in range(k)]))\n",
    "    similarity = centered_cosine_sim(vector_x_sparse, vector_y)\n",
    "    print(\"Similarity (case 2):\", similarity)\n",
    "\n",
    "# Run tests\n",
    "test_centered_cosine_sim_case_1()\n",
    "test_centered_cosine_sim_case_2()"
   ]
  }
 ],
 "metadata": {
  "kernelspec": {
   "display_name": "base",
   "language": "python",
   "name": "python3"
  },
  "language_info": {
   "codemirror_mode": {
    "name": "ipython",
    "version": 3
   },
   "file_extension": ".py",
   "mimetype": "text/x-python",
   "name": "python",
   "nbconvert_exporter": "python",
   "pygments_lexer": "ipython3",
   "version": "3.9.12"
  }
 },
 "nbformat": 4,
 "nbformat_minor": 2
}
