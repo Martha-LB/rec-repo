{
 "cells": [
  {
   "cell_type": "code",
   "execution_count": 2,
   "metadata": {},
   "outputs": [
    {
     "name": "stderr",
     "output_type": "stream",
     "text": [
      "/opt/anaconda3/lib/python3.9/pty.py:85: RuntimeWarning: os.fork() was called. os.fork() is incompatible with multithreaded code, and JAX is multithreaded, so this will likely lead to a deadlock.\n",
      "  pid, fd = os.forkpty()\n"
     ]
    },
    {
     "name": "stdout",
     "output_type": "stream",
     "text": [
      "Requirement already satisfied: jax in /opt/anaconda3/lib/python3.9/site-packages (0.4.30)\n",
      "Requirement already satisfied: jaxlib in /opt/anaconda3/lib/python3.9/site-packages (0.4.30)\n",
      "Requirement already satisfied: opt-einsum in /opt/anaconda3/lib/python3.9/site-packages (from jax) (3.3.0)\n",
      "Requirement already satisfied: numpy>=1.22 in /opt/anaconda3/lib/python3.9/site-packages (from jax) (1.26.4)\n",
      "Requirement already satisfied: importlib-metadata>=4.6 in /opt/anaconda3/lib/python3.9/site-packages (from jax) (4.11.3)\n",
      "Requirement already satisfied: scipy>=1.9 in /opt/anaconda3/lib/python3.9/site-packages (from jax) (1.13.1)\n",
      "Requirement already satisfied: ml-dtypes>=0.2.0 in /opt/anaconda3/lib/python3.9/site-packages (from jax) (0.3.2)\n",
      "Requirement already satisfied: zipp>=0.5 in /opt/anaconda3/lib/python3.9/site-packages (from importlib-metadata>=4.6->jax) (3.7.0)\n"
     ]
    }
   ],
   "source": [
    "!pip install jax jaxlib"
   ]
  },
  {
   "cell_type": "code",
   "execution_count": 4,
   "metadata": {},
   "outputs": [
    {
     "name": "stdout",
     "output_type": "stream",
     "text": [
      "Running memory inspection with original function...\n",
      "Loss: 5.543153285980225\n",
      "Testing memory-efficient MSE loss function...\n",
      "Memory-efficient Loss: 32.878211975097656\n"
     ]
    }
   ],
   "source": [
    "# Import necessary libraries\n",
    "import jax\n",
    "import jax.numpy as jnp\n",
    "from jax import profiler\n",
    "\n",
    "# Function to compute the MSE loss with potential memory issues\n",
    "def mse_loss_one_batch(mat_u, mat_v, rows, columns, ratings):\n",
    "    # This could lead to high memory usage\n",
    "    estimator = -(mat_u @ mat_v)[(rows, columns)]\n",
    "    loss = jnp.mean((estimator - ratings) ** 2)\n",
    "    return loss\n",
    "\n",
    "# Function to inspect memory usage\n",
    "def run_memory_inspection(mat_u, mat_v, rows, columns, ratings):\n",
    "    # Create a log directory for the profiler\n",
    "    log_dir = '/tmp/jax_profiler_log'  # Change this as needed\n",
    "    profiler.start_trace(log_dir)\n",
    "    try:\n",
    "        # Calculate loss\n",
    "        loss = mse_loss_one_batch(mat_u, mat_v, rows, columns, ratings)\n",
    "        print(f\"Loss: {loss}\")\n",
    "    finally:\n",
    "        # Stop profiling\n",
    "        profiler.stop_trace()\n",
    "\n",
    "# Memory-efficient implementation of MSE loss\n",
    "def mse_loss_memory_efficient(mat_u, mat_v, rows, columns, ratings):\n",
    "    # Directly compute the predicted ratings\n",
    "    predicted_ratings = jnp.sum(mat_u[rows] * mat_v[:, columns].T, axis=1)\n",
    "    \n",
    "    # Compute the MSE loss\n",
    "    loss = jnp.mean((predicted_ratings - ratings) ** 2)\n",
    "    return loss\n",
    "\n",
    "# Testing the memory-efficient implementation\n",
    "def test_memory_efficient_mse():\n",
    "    # Sample user and item factor matrices\n",
    "    mat_u = jax.random.normal(jax.random.PRNGKey(0), (4, 2))  # 4 users, 2 latent factors\n",
    "    mat_v = jax.random.normal(jax.random.PRNGKey(1), (2, 4))  # 2 latent factors, 4 items\n",
    "\n",
    "    # Sample indices and ratings\n",
    "    rows = jnp.array([0, 1, 2, 3])\n",
    "    columns = jnp.array([0, 1, 2, 3])\n",
    "    ratings = jnp.array([5.0, 4.0, 3.0, 2.0])\n",
    "\n",
    "    # Run memory inspection\n",
    "    print(\"Running memory inspection with original function...\")\n",
    "    run_memory_inspection(mat_u, mat_v, rows, columns, ratings)\n",
    "\n",
    "    # Test the memory-efficient implementation\n",
    "    print(\"Testing memory-efficient MSE loss function...\")\n",
    "    loss_memory_efficient = mse_loss_memory_efficient(mat_u, mat_v, rows, columns, ratings)\n",
    "    print(f\"Memory-efficient Loss: {loss_memory_efficient}\")\n",
    "\n",
    "# Execute the test function\n",
    "test_memory_efficient_mse()"
   ]
  }
 ],
 "metadata": {
  "kernelspec": {
   "display_name": "base",
   "language": "python",
   "name": "python3"
  },
  "language_info": {
   "codemirror_mode": {
    "name": "ipython",
    "version": 3
   },
   "file_extension": ".py",
   "mimetype": "text/x-python",
   "name": "python",
   "nbconvert_exporter": "python",
   "pygments_lexer": "ipython3",
   "version": "3.9.12"
  }
 },
 "nbformat": 4,
 "nbformat_minor": 2
}
